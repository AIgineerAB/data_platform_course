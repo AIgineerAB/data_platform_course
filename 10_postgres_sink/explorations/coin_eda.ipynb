{
 "cells": [
  {
   "cell_type": "code",
   "execution_count": 1,
   "metadata": {},
   "outputs": [
    {
     "name": "stdout",
     "output_type": "stream",
     "text": [
      "{'circulating_supply': 19818028,\n",
      " 'cmc_rank': 1,\n",
      " 'date_added': '2010-07-13T00:00:00.000Z',\n",
      " 'id': 1,\n",
      " 'infinite_supply': False,\n",
      " 'is_active': 1,\n",
      " 'is_fiat': 0,\n",
      " 'last_updated': '2025-02-01T12:55:00.000Z',\n",
      " 'max_supply': 21000000,\n",
      " 'name': 'Bitcoin',\n",
      " 'num_market_pairs': 11888,\n",
      " 'platform': None,\n",
      " 'quote': {'USD': {'fully_diluted_market_cap': 2147623918802.23,\n",
      "                   'last_updated': '2025-02-01T12:55:00.000Z',\n",
      "                   'market_cap': 2026746236013.9167,\n",
      "                   'market_cap_dominance': 57.9153,\n",
      "                   'percent_change_1h': 0.3032376,\n",
      "                   'percent_change_24h': -2.28617447,\n",
      "                   'percent_change_30d': 5.71064892,\n",
      "                   'percent_change_60d': 7.73995666,\n",
      "                   'percent_change_7d': -2.35840281,\n",
      "                   'percent_change_90d': 49.3104571,\n",
      "                   'price': 102267.80565724889,\n",
      "                   'tvl': None,\n",
      "                   'volume_24h': 42979485681.26636,\n",
      "                   'volume_change_24h': 12.5536}},\n",
      " 'self_reported_circulating_supply': None,\n",
      " 'self_reported_market_cap': None,\n",
      " 'slug': 'bitcoin',\n",
      " 'symbol': 'BTC',\n",
      " 'tags': ['mineable',\n",
      "          'pow',\n",
      "          'sha-256',\n",
      "          'store-of-value',\n",
      "          'state-channel',\n",
      "          'coinbase-ventures-portfolio',\n",
      "          'three-arrows-capital-portfolio',\n",
      "          'polychain-capital-portfolio',\n",
      "          'binance-labs-portfolio',\n",
      "          'blockchain-capital-portfolio',\n",
      "          'boostvc-portfolio',\n",
      "          'cms-holdings-portfolio',\n",
      "          'dcg-portfolio',\n",
      "          'dragonfly-capital-portfolio',\n",
      "          'electric-capital-portfolio',\n",
      "          'fabric-ventures-portfolio',\n",
      "          'framework-ventures-portfolio',\n",
      "          'galaxy-digital-portfolio',\n",
      "          'huobi-capital-portfolio',\n",
      "          'alameda-research-portfolio',\n",
      "          'a16z-portfolio',\n",
      "          '1confirmation-portfolio',\n",
      "          'winklevoss-capital-portfolio',\n",
      "          'usv-portfolio',\n",
      "          'placeholder-ventures-portfolio',\n",
      "          'pantera-capital-portfolio',\n",
      "          'multicoin-capital-portfolio',\n",
      "          'paradigm-portfolio',\n",
      "          'bitcoin-ecosystem',\n",
      "          'ftx-bankruptcy-estate',\n",
      "          '2017-2018-alt-season'],\n",
      " 'total_supply': 19818028,\n",
      " 'tvl_ratio': None}\n"
     ]
    }
   ],
   "source": [
    "from dotenv import load_dotenv\n",
    "import os\n",
    "\n",
    "from requests import Session\n",
    "from requests.exceptions import ConnectionError, Timeout, TooManyRedirects\n",
    "import json\n",
    "from pprint import pprint\n",
    "\n",
    "load_dotenv()\n",
    "\n",
    "API_KEY = os.getenv(\"COINMARKET_API\")\n",
    "\n",
    "API_URL = \"https://pro-api.coinmarketcap.com/v1/cryptocurrency/quotes/latest\"\n",
    "\n",
    "target_symbol = \"BTC\"\n",
    "\n",
    "# url = \"https://sandbox-api.coinmarketcap.com/v1/cryptocurrency/listings/latest\"\n",
    "parameters = {\n",
    "    \"symbol\": target_symbol,\n",
    "    \"convert\": \"USD\",\n",
    "}\n",
    "\n",
    "headers = {\n",
    "    \"Accepts\": \"application/json\",\n",
    "    \"X-CMC_PRO_API_KEY\": API_KEY,  # \"b54bcf4d-1bca-4e8e-9a24-22ff2c3d462c\",\n",
    "}\n",
    "\n",
    "session = Session()\n",
    "session.headers.update(headers)\n",
    "\n",
    "try:\n",
    "    response = session.get(API_URL, params=parameters)\n",
    "    result = json.loads(response.text)[\"data\"][target_symbol]\n",
    "    pprint(result)\n",
    "except (ConnectionError, Timeout, TooManyRedirects) as e:\n",
    "    print(e)"
   ]
  },
  {
   "cell_type": "code",
   "execution_count": 2,
   "metadata": {},
   "outputs": [
    {
     "data": {
      "text/plain": [
       "dict_keys(['id', 'name', 'symbol', 'slug', 'num_market_pairs', 'date_added', 'tags', 'max_supply', 'circulating_supply', 'total_supply', 'is_active', 'infinite_supply', 'platform', 'cmc_rank', 'is_fiat', 'self_reported_circulating_supply', 'self_reported_market_cap', 'tvl_ratio', 'last_updated', 'quote'])"
      ]
     },
     "execution_count": 2,
     "metadata": {},
     "output_type": "execute_result"
    }
   ],
   "source": [
    "result.keys()"
   ]
  },
  {
   "cell_type": "code",
   "execution_count": 3,
   "metadata": {},
   "outputs": [
    {
     "data": {
      "text/plain": [
       "{'USD': {'price': 102267.80565724889,\n",
       "  'volume_24h': 42979485681.26636,\n",
       "  'volume_change_24h': 12.5536,\n",
       "  'percent_change_1h': 0.3032376,\n",
       "  'percent_change_24h': -2.28617447,\n",
       "  'percent_change_7d': -2.35840281,\n",
       "  'percent_change_30d': 5.71064892,\n",
       "  'percent_change_60d': 7.73995666,\n",
       "  'percent_change_90d': 49.3104571,\n",
       "  'market_cap': 2026746236013.9167,\n",
       "  'market_cap_dominance': 57.9153,\n",
       "  'fully_diluted_market_cap': 2147623918802.23,\n",
       "  'tvl': None,\n",
       "  'last_updated': '2025-02-01T12:55:00.000Z'}}"
      ]
     },
     "execution_count": 3,
     "metadata": {},
     "output_type": "execute_result"
    }
   ],
   "source": [
    "result[\"quote\"]"
   ]
  },
  {
   "cell_type": "code",
   "execution_count": 5,
   "metadata": {},
   "outputs": [
    {
     "data": {
      "text/plain": [
       "{'id': 1,\n",
       " 'name': 'Bitcoin',\n",
       " 'symbol': 'BTC',\n",
       " 'slug': 'bitcoin',\n",
       " 'num_market_pairs': 11888,\n",
       " 'date_added': '2010-07-13T00:00:00.000Z',\n",
       " 'tags': ['mineable',\n",
       "  'pow',\n",
       "  'sha-256',\n",
       "  'store-of-value',\n",
       "  'state-channel',\n",
       "  'coinbase-ventures-portfolio',\n",
       "  'three-arrows-capital-portfolio',\n",
       "  'polychain-capital-portfolio',\n",
       "  'binance-labs-portfolio',\n",
       "  'blockchain-capital-portfolio',\n",
       "  'boostvc-portfolio',\n",
       "  'cms-holdings-portfolio',\n",
       "  'dcg-portfolio',\n",
       "  'dragonfly-capital-portfolio',\n",
       "  'electric-capital-portfolio',\n",
       "  'fabric-ventures-portfolio',\n",
       "  'framework-ventures-portfolio',\n",
       "  'galaxy-digital-portfolio',\n",
       "  'huobi-capital-portfolio',\n",
       "  'alameda-research-portfolio',\n",
       "  'a16z-portfolio',\n",
       "  '1confirmation-portfolio',\n",
       "  'winklevoss-capital-portfolio',\n",
       "  'usv-portfolio',\n",
       "  'placeholder-ventures-portfolio',\n",
       "  'pantera-capital-portfolio',\n",
       "  'multicoin-capital-portfolio',\n",
       "  'paradigm-portfolio',\n",
       "  'bitcoin-ecosystem',\n",
       "  'ftx-bankruptcy-estate',\n",
       "  '2017-2018-alt-season'],\n",
       " 'max_supply': 21000000,\n",
       " 'circulating_supply': 19818028,\n",
       " 'total_supply': 19818028,\n",
       " 'is_active': 1,\n",
       " 'infinite_supply': False,\n",
       " 'platform': None,\n",
       " 'cmc_rank': 1,\n",
       " 'is_fiat': 0,\n",
       " 'self_reported_circulating_supply': None,\n",
       " 'self_reported_market_cap': None,\n",
       " 'tvl_ratio': None,\n",
       " 'last_updated': '2025-02-01T12:55:00.000Z',\n",
       " 'quote': {'USD': {'price': 102267.80565724889,\n",
       "   'volume_24h': 42979485681.26636,\n",
       "   'volume_change_24h': 12.5536,\n",
       "   'percent_change_1h': 0.3032376,\n",
       "   'percent_change_24h': -2.28617447,\n",
       "   'percent_change_7d': -2.35840281,\n",
       "   'percent_change_30d': 5.71064892,\n",
       "   'percent_change_60d': 7.73995666,\n",
       "   'percent_change_90d': 49.3104571,\n",
       "   'market_cap': 2026746236013.9167,\n",
       "   'market_cap_dominance': 57.9153,\n",
       "   'fully_diluted_market_cap': 2147623918802.23,\n",
       "   'tvl': None,\n",
       "   'last_updated': '2025-02-01T12:55:00.000Z'}}}"
      ]
     },
     "execution_count": 5,
     "metadata": {},
     "output_type": "execute_result"
    }
   ],
   "source": [
    "result"
   ]
  },
  {
   "cell_type": "code",
   "execution_count": 7,
   "metadata": {},
   "outputs": [
    {
     "data": {
      "text/plain": [
       "('Bitcoin', 'BTC', 'bitcoin', '2010-07-13T00:00:00.000Z', 19818028)"
      ]
     },
     "execution_count": 7,
     "metadata": {},
     "output_type": "execute_result"
    }
   ],
   "source": [
    "raw_data = result\n",
    "raw_data[\"name\"], raw_data[\"symbol\"], raw_data[\"slug\"], raw_data[\"date_added\"], raw_data[\"circulating_supply\"]"
   ]
  },
  {
   "cell_type": "code",
   "execution_count": 8,
   "metadata": {},
   "outputs": [
    {
     "data": {
      "text/plain": [
       "{'USD': {'price': 102267.80565724889,\n",
       "  'volume_24h': 42979485681.26636,\n",
       "  'volume_change_24h': 12.5536,\n",
       "  'percent_change_1h': 0.3032376,\n",
       "  'percent_change_24h': -2.28617447,\n",
       "  'percent_change_7d': -2.35840281,\n",
       "  'percent_change_30d': 5.71064892,\n",
       "  'percent_change_60d': 7.73995666,\n",
       "  'percent_change_90d': 49.3104571,\n",
       "  'market_cap': 2026746236013.9167,\n",
       "  'market_cap_dominance': 57.9153,\n",
       "  'fully_diluted_market_cap': 2147623918802.23,\n",
       "  'tvl': None,\n",
       "  'last_updated': '2025-02-01T12:55:00.000Z'}}"
      ]
     },
     "execution_count": 8,
     "metadata": {},
     "output_type": "execute_result"
    }
   ],
   "source": [
    "raw_data[\"quote\"]"
   ]
  },
  {
   "cell_type": "code",
   "execution_count": 9,
   "metadata": {},
   "outputs": [
    {
     "data": {
      "text/plain": [
       "102267.80565724889"
      ]
     },
     "execution_count": 9,
     "metadata": {},
     "output_type": "execute_result"
    }
   ],
   "source": [
    "raw_data[\"quote\"][\"USD\"][\"price\"]"
   ]
  },
  {
   "cell_type": "code",
   "execution_count": 11,
   "metadata": {},
   "outputs": [
    {
     "data": {
      "text/plain": [
       "{'id': 1,\n",
       " 'name': 'Bitcoin',\n",
       " 'symbol': 'BTC',\n",
       " 'slug': 'bitcoin',\n",
       " 'num_market_pairs': 11888,\n",
       " 'date_added': '2010-07-13T00:00:00.000Z',\n",
       " 'tags': ['mineable',\n",
       "  'pow',\n",
       "  'sha-256',\n",
       "  'store-of-value',\n",
       "  'state-channel',\n",
       "  'coinbase-ventures-portfolio',\n",
       "  'three-arrows-capital-portfolio',\n",
       "  'polychain-capital-portfolio',\n",
       "  'binance-labs-portfolio',\n",
       "  'blockchain-capital-portfolio',\n",
       "  'boostvc-portfolio',\n",
       "  'cms-holdings-portfolio',\n",
       "  'dcg-portfolio',\n",
       "  'dragonfly-capital-portfolio',\n",
       "  'electric-capital-portfolio',\n",
       "  'fabric-ventures-portfolio',\n",
       "  'framework-ventures-portfolio',\n",
       "  'galaxy-digital-portfolio',\n",
       "  'huobi-capital-portfolio',\n",
       "  'alameda-research-portfolio',\n",
       "  'a16z-portfolio',\n",
       "  '1confirmation-portfolio',\n",
       "  'winklevoss-capital-portfolio',\n",
       "  'usv-portfolio',\n",
       "  'placeholder-ventures-portfolio',\n",
       "  'pantera-capital-portfolio',\n",
       "  'multicoin-capital-portfolio',\n",
       "  'paradigm-portfolio',\n",
       "  'bitcoin-ecosystem',\n",
       "  'ftx-bankruptcy-estate',\n",
       "  '2017-2018-alt-season'],\n",
       " 'max_supply': 21000000,\n",
       " 'circulating_supply': 19818028,\n",
       " 'total_supply': 19818028,\n",
       " 'is_active': 1,\n",
       " 'infinite_supply': False,\n",
       " 'platform': None,\n",
       " 'cmc_rank': 1,\n",
       " 'is_fiat': 0,\n",
       " 'self_reported_circulating_supply': None,\n",
       " 'self_reported_market_cap': None,\n",
       " 'tvl_ratio': None,\n",
       " 'last_updated': '2025-02-01T12:55:00.000Z',\n",
       " 'quote': {'USD': {'price': 102267.80565724889,\n",
       "   'volume_24h': 42979485681.26636,\n",
       "   'volume_change_24h': 12.5536,\n",
       "   'percent_change_1h': 0.3032376,\n",
       "   'percent_change_24h': -2.28617447,\n",
       "   'percent_change_7d': -2.35840281,\n",
       "   'percent_change_30d': 5.71064892,\n",
       "   'percent_change_60d': 7.73995666,\n",
       "   'percent_change_90d': 49.3104571,\n",
       "   'market_cap': 2026746236013.9167,\n",
       "   'market_cap_dominance': 57.9153,\n",
       "   'fully_diluted_market_cap': 2147623918802.23,\n",
       "   'tvl': None,\n",
       "   'last_updated': '2025-02-01T12:55:00.000Z'}}}"
      ]
     },
     "execution_count": 11,
     "metadata": {},
     "output_type": "execute_result"
    }
   ],
   "source": [
    "raw_data"
   ]
  },
  {
   "cell_type": "code",
   "execution_count": 12,
   "metadata": {},
   "outputs": [
    {
     "data": {
      "text/plain": [
       "20"
      ]
     },
     "execution_count": 12,
     "metadata": {},
     "output_type": "execute_result"
    }
   ],
   "source": [
    "len(raw_data)"
   ]
  },
  {
   "cell_type": "code",
   "execution_count": null,
   "metadata": {},
   "outputs": [],
   "source": [
    "from dotenv import load_dotenv\n",
    "import os\n",
    "\n",
    "from requests import Session\n",
    "from requests.exceptions import ConnectionError, Timeout, TooManyRedirects\n",
    "import json\n",
    "from pprint import pprint\n",
    "\n",
    "load_dotenv()\n",
    "\n",
    "API_KEY = os.getenv(\"COINMARKET_API\")\n",
    "\n",
    "API_URL = \"https://pro-api.coinmarketcap.com/v1/cryptocurrency/map\"\n",
    "\n",
    "# url = \"https://sandbox-api.coinmarketcap.com/v1/cryptocurrency/listings/latest\"\n",
    "# parameters = {\"start\": \"1\", \"limit\": \"5000\", \"convert\": \"USD\", }\n",
    "\n",
    "headers = {\n",
    "    \"Accepts\": \"application/json\",\n",
    "    \"X-CMC_PRO_API_KEY\": API_KEY,  # \"b54bcf4d-1bca-4e8e-9a24-22ff2c3d462c\",\n",
    "}\n",
    "\n",
    "session = Session()\n",
    "session.headers.update(headers)\n",
    "\n",
    "try:\n",
    "    response = session.get(API_URL, params=parameters)\n",
    "    data = json.loads(response.text)\n",
    "    pprint(data)\n",
    "except (ConnectionError, Timeout, TooManyRedirects) as e:\n",
    "    print(e)\n",
    "\n",
    "\n",
    "\n"
   ]
  }
 ],
 "metadata": {
  "kernelspec": {
   "display_name": ".venv",
   "language": "python",
   "name": "python3"
  },
  "language_info": {
   "codemirror_mode": {
    "name": "ipython",
    "version": 3
   },
   "file_extension": ".py",
   "mimetype": "text/x-python",
   "name": "python",
   "nbconvert_exporter": "python",
   "pygments_lexer": "ipython3",
   "version": "3.11.8"
  }
 },
 "nbformat": 4,
 "nbformat_minor": 2
}

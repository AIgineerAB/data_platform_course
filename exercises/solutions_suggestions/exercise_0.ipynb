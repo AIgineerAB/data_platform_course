{
 "cells": [
  {
   "cell_type": "markdown",
   "metadata": {},
   "source": [
    "# Exercise 0"
   ]
  },
  {
   "cell_type": "markdown",
   "metadata": {},
   "source": [
    "## 0. User input"
   ]
  },
  {
   "cell_type": "code",
   "execution_count": 10,
   "metadata": {},
   "outputs": [
    {
     "name": "stdout",
     "output_type": "stream",
     "text": [
      "source:              /Users/aigineer/Documents/teaching repos/data_platform_course/exercises/test.csv\n",
      "destination:         /Users/aigineer/Documents/teaching repos/data_platform_course/exercises/output.txt\n"
     ]
    }
   ],
   "source": [
    "source_path = input(\"Enter a file path for your source data\")\n",
    "destination_path = input(\"Enter a file path for your destination data\")\n",
    "\n",
    "print(f\"{'source:':<20} {source_path}\")\n",
    "print(f\"{'destination:':<20} {destination_path}\")\n"
   ]
  },
  {
   "cell_type": "markdown",
   "metadata": {},
   "source": [
    "## 1. Schema validation "
   ]
  },
  {
   "cell_type": "code",
   "execution_count": 19,
   "metadata": {},
   "outputs": [
    {
     "data": {
      "text/plain": [
       "{'id': 101, 'name': 'Erika', 'is_active': True, 'age': 45}"
      ]
     },
     "execution_count": 19,
     "metadata": {},
     "output_type": "execute_result"
    }
   ],
   "source": [
    "# a)\n",
    "data = dict(id=101, name=\"Erika\", is_active=True, age=45)\n",
    "data"
   ]
  },
  {
   "cell_type": "code",
   "execution_count": 20,
   "metadata": {},
   "outputs": [
    {
     "data": {
      "text/plain": [
       "True"
      ]
     },
     "execution_count": 20,
     "metadata": {},
     "output_type": "execute_result"
    }
   ],
   "source": [
    "# b)\n",
    "schema = {\"id\": int, \"name\": str, \"is_active\": bool, \"age\": int}\n",
    "\n",
    "all([isinstance(data[column], schema[column]) for column in schema])"
   ]
  },
  {
   "cell_type": "code",
   "execution_count": 21,
   "metadata": {},
   "outputs": [
    {
     "data": {
      "text/plain": [
       "[{'id': 102, 'name': 'Marcus', 'is_active': True, 'age': 34},\n",
       " {'id': 103, 'name': 'David', 'is_active': False, 'age': 29},\n",
       " {'id': 104, 'name': 'Anna', 'is_active': True, 'age': 41.5},\n",
       " {'id': 106, 'name': 'Ingrid', 'is_active': 'NOPE', 'age': 8}]"
      ]
     },
     "execution_count": 21,
     "metadata": {},
     "output_type": "execute_result"
    }
   ],
   "source": [
    "# c)\n",
    "data = [\n",
    "    {\"id\": 102, \"name\": \"Marcus\", \"is_active\": True, \"age\": 34},\n",
    "    {\"id\": 103, \"name\": \"David\", \"is_active\": False, \"age\": 29},\n",
    "    {\"id\": 104, \"name\": \"Anna\", \"is_active\": True, \"age\": 41.5},\n",
    "    {\"id\": 106, \"name\": \"Ingrid\", \"is_active\": \"NOPE\", \"age\": 8},\n",
    "]\n",
    "\n",
    "data"
   ]
  },
  {
   "cell_type": "code",
   "execution_count": 22,
   "metadata": {},
   "outputs": [
    {
     "name": "stdout",
     "output_type": "stream",
     "text": [
      "[True, True, False, False]\n",
      "The data is valid: False\n"
     ]
    }
   ],
   "source": [
    "# d) Schema validation of c)\n",
    "\n",
    "def schema_validate(data, schema):\n",
    "    return all([isinstance(data[column], schema[column]) for column in schema])\n",
    "\n",
    "validated_records = [schema_validate(record, schema) for record in data]\n",
    "print(validated_records)\n",
    "\n",
    "print(f\"The data is valid: {all(validated_records)}\")"
   ]
  },
  {
   "cell_type": "code",
   "execution_count": 23,
   "metadata": {},
   "outputs": [],
   "source": [
    "# e) \n",
    "# look at previous functions "
   ]
  },
  {
   "cell_type": "markdown",
   "metadata": {},
   "source": [
    "## 2. Check list length"
   ]
  },
  {
   "cell_type": "code",
   "execution_count": 24,
   "metadata": {},
   "outputs": [
    {
     "name": "stdout",
     "output_type": "stream",
     "text": [
      "The provided list must be 10 in length and not 3\n"
     ]
    }
   ],
   "source": [
    "\n",
    "def check_list_length(list_):\n",
    "    if len(list_) != 10:\n",
    "        raise ValueError(f\"The provided list must be 10 in length and not {len(list_)}\")\n",
    "\n",
    "try:    \n",
    "    check_list_length([1,2,3])\n",
    "except ValueError as err:\n",
    "    print(err)"
   ]
  },
  {
   "cell_type": "code",
   "execution_count": 25,
   "metadata": {},
   "outputs": [],
   "source": [
    "check_list_length(list(range(10)))"
   ]
  },
  {
   "cell_type": "markdown",
   "metadata": {},
   "source": [
    "## 3. Extract data from logs"
   ]
  },
  {
   "cell_type": "code",
   "execution_count": 37,
   "metadata": {},
   "outputs": [],
   "source": [
    "with open(\"../data/network.log\", \"r\") as logs: \n",
    "    logs = logs.readlines()"
   ]
  },
  {
   "cell_type": "code",
   "execution_count": 38,
   "metadata": {},
   "outputs": [
    {
     "data": {
      "text/plain": [
       "['2024-06-01 09:00:00 | Source: 10.0.0.1 | Destination: 10.0.0.2 | Protocol: TCP | Bytes: 1024\\n',\n",
       " '2024-06-01 09:05:00 | Source: 10.0.0.2 | Destination: 10.0.0.3 | Protocol: UDP | Bytes: 2048\\n',\n",
       " '2024-06-01 09:10:00 | Source: 10.0.0.3 | Destination: 10.0.0.1 | Protocol: TCP | Bytes: 512\\n']"
      ]
     },
     "execution_count": 38,
     "metadata": {},
     "output_type": "execute_result"
    }
   ],
   "source": [
    "logs"
   ]
  },
  {
   "cell_type": "code",
   "execution_count": 39,
   "metadata": {},
   "outputs": [
    {
     "data": {
      "text/plain": [
       "['1024', '2048', ' 512']"
      ]
     },
     "execution_count": 39,
     "metadata": {},
     "output_type": "execute_result"
    }
   ],
   "source": [
    "protocols = [log.split(\"|\")[-2][-4:-1] for log in logs]\n",
    "bytes = [log.split(\"|\")[-1][-5:-1] for log in logs]\n",
    "bytes"
   ]
  },
  {
   "cell_type": "code",
   "execution_count": 42,
   "metadata": {},
   "outputs": [
    {
     "data": {
      "text/plain": [
       "defaultdict(int, {'TCP': 1536, 'UDP': 2048})"
      ]
     },
     "execution_count": 42,
     "metadata": {},
     "output_type": "execute_result"
    }
   ],
   "source": [
    "from collections import defaultdict\n",
    "\n",
    "network_data = defaultdict(int)\n",
    "\n",
    "for protocol, byte in zip(protocols, bytes):\n",
    "    network_data[protocol] += int(byte)\n",
    "\n",
    "network_data"
   ]
  },
  {
   "cell_type": "markdown",
   "metadata": {},
   "source": [
    "next step is to format it into a string and join ..."
   ]
  },
  {
   "cell_type": "markdown",
   "metadata": {},
   "source": [
    "## 4. Aggregating json data"
   ]
  },
  {
   "cell_type": "code",
   "execution_count": 32,
   "metadata": {},
   "outputs": [
    {
     "data": {
      "text/plain": [
       "[{'name': 'Alice', 'paid': 100},\n",
       " {'name': 'Bob', 'paid': 200},\n",
       " {'name': 'Alice', 'paid': 150},\n",
       " {'name': 'Erik', 'paid': 180},\n",
       " {'name': 'Maja', 'paid': 220}]"
      ]
     },
     "execution_count": 32,
     "metadata": {},
     "output_type": "execute_result"
    }
   ],
   "source": [
    "# a)\n",
    "import json\n",
    "\n",
    "with open(\"../data/paid.json\", \"r\") as file:\n",
    "    json_data = json.load(file)\n",
    "\n",
    "json_data[:5]"
   ]
  },
  {
   "cell_type": "code",
   "execution_count": 33,
   "metadata": {},
   "outputs": [
    {
     "data": {
      "text/plain": [
       "defaultdict(int,\n",
       "            {'Alice': 745,\n",
       "             'Bob': 640,\n",
       "             'Erik': 570,\n",
       "             'Maja': 650,\n",
       "             'Oskar': 300,\n",
       "             'Elsa': 320,\n",
       "             'Liam': 380,\n",
       "             'Astrid': 190,\n",
       "             'Freja': 620,\n",
       "             'Hugo': 250,\n",
       "             'Nils': 130,\n",
       "             'Wilma': 200,\n",
       "             'Alexander': 260,\n",
       "             'Clara': 280,\n",
       "             'Selma': 175,\n",
       "             'Elias': 190})"
      ]
     },
     "execution_count": 33,
     "metadata": {},
     "output_type": "execute_result"
    }
   ],
   "source": [
    "from collections import defaultdict\n",
    "\n",
    "grouped_data = defaultdict(int)\n",
    "\n",
    "for record in json_data:\n",
    "    grouped_data[record['name']] += record[\"paid\"]\n",
    "\n",
    "grouped_data"
   ]
  },
  {
   "cell_type": "code",
   "execution_count": 34,
   "metadata": {},
   "outputs": [],
   "source": [
    "with open(\"payment_sum.json\", \"w\") as file:\n",
    "    json.dump(grouped_data, file)"
   ]
  },
  {
   "cell_type": "markdown",
   "metadata": {},
   "source": [
    "## 5 Simulating data streams"
   ]
  },
  {
   "cell_type": "code",
   "execution_count": 35,
   "metadata": {},
   "outputs": [
    {
     "name": "stdout",
     "output_type": "stream",
     "text": [
      "Processed: record1\n",
      "Processed: record2\n",
      "Processed: record3\n",
      "Processed: record4\n",
      "STOP signal encountered. Ending stream processing.\n",
      "Data stream processing completed. Have a nice day\n"
     ]
    }
   ],
   "source": [
    "import time \n",
    "\n",
    "simualated_stream = [\"record1\", \"record2\", \"record3\", \"record4\", \"STOP\", \"record5\"]\n",
    "\n",
    "for chunk in simualated_stream:\n",
    "    if chunk == \"STOP\":\n",
    "        print(\"STOP signal encountered. Ending stream processing.\")\n",
    "        break\n",
    "\n",
    "    print(f\"Processed: {chunk}\")\n",
    "    time.sleep(1)\n",
    "\n",
    "print(\"Data stream processing completed. Have a nice day\")\n"
   ]
  }
 ],
 "metadata": {
  "kernelspec": {
   "display_name": "3.11.8",
   "language": "python",
   "name": "python3"
  },
  "language_info": {
   "codemirror_mode": {
    "name": "ipython",
    "version": 3
   },
   "file_extension": ".py",
   "mimetype": "text/x-python",
   "name": "python",
   "nbconvert_exporter": "python",
   "pygments_lexer": "ipython3",
   "version": "3.11.8"
  }
 },
 "nbformat": 4,
 "nbformat_minor": 2
}
